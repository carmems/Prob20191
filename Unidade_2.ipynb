{
  "nbformat": 4,
  "nbformat_minor": 0,
  "metadata": {
    "colab": {
      "name": "Unidade 2.ipynb",
      "version": "0.3.2",
      "provenance": [],
      "collapsed_sections": [],
      "toc_visible": true
    },
    "kernelspec": {
      "name": "python3",
      "display_name": "Python 3"
    }
  },
  "cells": [
    {
      "cell_type": "markdown",
      "metadata": {
        "id": "9J2b5-PX-Kak",
        "colab_type": "text"
      },
      "source": [
        "# Unidade 02 \n",
        "\n",
        "- **Aluno**: Carmem Stefanie da Silva Cavalcante\n",
        "\n",
        "\n",
        "\n",
        "**Avisos**\n",
        "\n",
        "1. Todas as questões devem ser respondidas através de códigos escritos em linguagem Python 3 (**verificar o tipo do runtime**) e no espaço destinado para esse fim. Criem células Markdown para destacar quando inicia e termina as questões. \n",
        "2. As bases de dados para resolução das questões estão disponibilizadas no arquivo anexo a prova. **Os dados são provenientes do portal de dados abertos da UFRN.**"
      ]
    },
    {
      "cell_type": "markdown",
      "metadata": {
        "id": "SAgqihFOMYeW",
        "colab_type": "text"
      },
      "source": [
        "1. (**4 pontos**) O arquivo \"docentes.csv\" contem informações sobre os professores ativos da UFRN. \n",
        "- a) (**1 ponto**) Utilizando um gráfico de *pizza*, descreva as prorporções/percentagens dos diferentes tipos de professores encontrados na UFRN (coluna **categoria**). Os valores das proporções/percentagens devem estar claramente descritos na figura. O rótulo (*label*) do eito y não deverá ser apresentado na respectiva figura. Quais as suas conclusões?\n",
        "- b) (**1 ponto**) Utizando um gráfico de *barras* descreva a proporção das diferentes formações dos professores na UFRN (coluna **formacao**). Quais as suas conclusões?\n",
        "- c) (**1 ponto**) Considerando apenas os professores lotados no *Instituto Metrópole Digital* e as mesmas variáveis descritas nas questões **1.a** e **1.b**, pode-se concluir que existe um comportamento semelhante ao generalizado pela UFRN? Justifique a sua resposta utilizando os mesmos gráficos adotados nas questões **1.a** e **1.b**. As duas figuras geradas devem estar uma lado da outra.\n",
        "- d) (**1 ponto**) Utilizando um gráfico de *histograma* (com 30 barras/bins) sobre as informações de admissão (coluna **admissao**) dos professores, qual período houve um maior número de contratações na instituição? Crie um segundo gráfico de histograma mas dessa vez fazendo a mesma análise apenas para o *Instituto Metrópole Digital*. Os dois gráficos devem estar um ao lado do outro. Justifque a sua resposta."
      ]
    },
    {
      "cell_type": "code",
      "metadata": {
        "id": "JqfhIyc3Blrh",
        "colab_type": "code",
        "colab": {}
      },
      "source": [
        "import pandas as pd\n",
        "import matplotlib.pyplot as plt\n",
        "professores = pd.read_csv(\"docentes.csv\",sep=\";\").drop(\"Unnamed: 11\",axis=1)\n",
        "professores[\"admissao\"] = pd.to_datetime(professores.admissao).dt.year\n"
      ],
      "execution_count": 0,
      "outputs": []
    },
    {
      "cell_type": "code",
      "metadata": {
        "id": "Uiez4swGY49B",
        "colab_type": "code",
        "colab": {}
      },
      "source": [
        "#1\n",
        "professores[\"categoria\"].value_counts().plot.pie(figsize = (6,6), autopct = '%.2f%%')\n",
        "plt.ylabel('')\n",
        "\n",
        "#Há uma predominância de Professores do Magistério Superior,\n",
        "#enquanto acontece uma quase inexistência de Professores de Ensino Básico de Ex-território (menos de 1%)"
      ],
      "execution_count": 0,
      "outputs": []
    },
    {
      "cell_type": "code",
      "metadata": {
        "id": "FqNGzDuuakSv",
        "colab_type": "code",
        "colab": {}
      },
      "source": [
        "#2\n",
        "\n",
        "professores[\"formacao\"].value_counts().plot.barh()\n",
        "plt.xlabel(\"Quantidade de docentes com essa formação\")\n",
        "\n",
        "#Não existe quantidade significativa de docentes na UFRN que tenha apenas graduação, \n",
        "#quase todos possuem Pós Graduação (seja stricto ou lato) e a grande maioria tem doutorado."
      ],
      "execution_count": 0,
      "outputs": []
    },
    {
      "cell_type": "code",
      "metadata": {
        "id": "lAwpi7jpbioI",
        "colab_type": "code",
        "colab": {}
      },
      "source": [
        "#3.a\n",
        "\n",
        "fig = plt.figure(figsize=(10,10))\n",
        "ax1 = fig.add_subplot(1,2,1)\n",
        "ax2 = fig.add_subplot(1,2,2)\n",
        "\n",
        "prof_imd = professores[professores[\"lotacao\"] == \"INSTITUTO METROPOLE DIGITAL\"]\n",
        "\n",
        "labels = professores[\"categoria\"].value_counts().index\n",
        "\n",
        "ax1.pie(professores[\"categoria\"].value_counts(), autopct = '%.2f%%', labels=labels)\n",
        "ax2.pie(prof_imd[\"categoria\"].value_counts(), autopct = '%.2f%%')\n",
        "\n",
        "ax1.set_title(\"Toda a UFRN\")\n",
        "ax2.set_title(\"IMD\")\n",
        "\n",
        "plt.show()\n",
        "\n",
        "#É possível reparar que o comportamento dos gráficos é similar: tanto considerando os professores\n",
        "# de toda a UFRN, como analisando apenas os do IMD, prevalecem os Professores do Magistério Superior\n",
        "\n"
      ],
      "execution_count": 0,
      "outputs": []
    },
    {
      "cell_type": "code",
      "metadata": {
        "id": "CO2QM-PcbjAr",
        "colab_type": "code",
        "colab": {}
      },
      "source": [
        "#3.b\n",
        "\n",
        "fig = plt.figure(figsize=(10,10))\n",
        "ax1 = fig.add_subplot(1,2,1)\n",
        "ax2 = fig.add_subplot(1,2,2)\n",
        "\n",
        "\n",
        "\n",
        "num_cols = ['DOUTORADO', 'MESTRADO', 'ESPECIALIZAÇÃO', 'GRADUAÇÃO', 'DESCONHECIDA']\n",
        "\n",
        "width_prof = professores[num_cols]\n",
        "width_prof_imd = prof_imd[num_cols].iloc[0]\n",
        "\n",
        "bar_positions = np.arange(5) + 0.75\n",
        "\n",
        "ax1.barh(bar_positions, width_prof, 0.5)\n",
        "ax2.barh(bar_positions, width_prof_imd, 0.5)\n",
        "\n",
        "ax1.set_title(\"Toda a UFRN\")\n",
        "ax2.set_title(\"IMD\")\n",
        "\n",
        "plt.show()\n"
      ],
      "execution_count": 0,
      "outputs": []
    },
    {
      "cell_type": "code",
      "metadata": {
        "id": "nhu5DQ4sjuwC",
        "colab_type": "code",
        "colab": {}
      },
      "source": [
        "#3.b\n",
        "\n",
        "fig = plt.figure(figsize=(10,5))\n",
        "\n",
        "ax1 = fig.add_subplot(1,2,1)\n",
        "ax2 = fig.add_subplot(1,2,2)\n",
        "\n",
        "ax1 = professores[\"formacao\"].value_counts().plot.bar(rot = 45, title=\"Toda a UFRN\")\n",
        "ax2 = prof_imd[\"formacao\"].value_counts().plot.bar(rot = 45, title=\"IMD\")\n",
        "\n",
        "\n",
        "plt.show()\n",
        "\n"
      ],
      "execution_count": 0,
      "outputs": []
    },
    {
      "cell_type": "code",
      "metadata": {
        "id": "OQWO8ZM6rbOl",
        "colab_type": "code",
        "colab": {}
      },
      "source": [
        "#3.b\n",
        "prof_imd[\"formacao\"].value_counts().plot.bar(rot = 45, title=\"IMD\")\n",
        "\n",
        "#A proporção se mantém: a grande maioria dos docentes do IMD tem doutorado, como foi\n",
        "#mostrado que acontecia com os docentes da UFRN."
      ],
      "execution_count": 0,
      "outputs": []
    },
    {
      "cell_type": "markdown",
      "metadata": {
        "id": "xf7vStQG9SjG",
        "colab_type": "text"
      },
      "source": [
        "2. (**3 pontos**) O arquivo \"alunos_imd.csv\" contem informações sobre os discentes do curso de Bacharelado em Tecnologia da Informação desde 2013. \n",
        "- a) (**2 pontos**) A base de dados em questão traz várias informações interessantes, dentre elas o gênero dos discentes (coluna **sexo**). Nessa perspectiva, atualmente existem vários projetos que estimulam a inserção de mulheres na carreira de computação, como por exemplo o **Projeto PyLadies**, **Mulheres na TI**, dentre outros. Utilizando a biblioteca Seaborn crie um gráfico de barras onde seja possível verificar a evolução da inserção de mulheres no curso de Bacharelado em Tecnologia da Informação da UFRN ao longo dos anos.\n",
        "- b) **(0.5 ponto**) Baseado em **2.a**, qual o ano que houve um maior número de ingressantes mulheres? Existe uma tendência de crescimento acentuado no número de ingressantes mulheres?\n",
        "- c) **(0.5 ponto**) Quando considerado apenas os discentes com status \"CONCLUÍDO\", como se apresenta a questão da diferença de genêro? Utilize o mesmo tipo de gráfico da questão **2.a** para justificar a sua resposta."
      ]
    },
    {
      "cell_type": "code",
      "metadata": {
        "id": "lkbWcgvwR7Ht",
        "colab_type": "code",
        "colab": {}
      },
      "source": [
        "import seaborn as sns\n",
        "alunos_imd = pd.read_csv(\"alunos_imd.csv\").iloc[:,1:]\n",
        "alunos_imd.head()\n",
        "# coloque as suas respostas aqui"
      ],
      "execution_count": 0,
      "outputs": []
    },
    {
      "cell_type": "code",
      "metadata": {
        "id": "8_8bjIzclBAM",
        "colab_type": "code",
        "colab": {}
      },
      "source": [
        "#a\n",
        "sns.countplot(x = 'ano_ingresso', hue = 'sexo', data = alunos_imd)\n"
      ],
      "execution_count": 0,
      "outputs": []
    },
    {
      "cell_type": "code",
      "metadata": {
        "id": "ViXFkDOVlzPH",
        "colab_type": "code",
        "colab": {}
      },
      "source": [
        "#b\n",
        "\n",
        "mulheres = alunos_imd[alunos_imd[\"sexo\"] == \"F\"]\n",
        "mulheres[\"ano_ingresso\"].value_counts()\n",
        "\n",
        "#O ano com maior número de mulheres ingressantes foi 2018.Porém, não existe um \n",
        "#crescimento significativo do número de mulheres em TI, de forma que a quantidade\n",
        "#de ingressantes do sexo feminino em 2013 chegou a ser maior que a de 2019"
      ],
      "execution_count": 0,
      "outputs": []
    },
    {
      "cell_type": "code",
      "metadata": {
        "id": "BO_QyvylmY1L",
        "colab_type": "code",
        "outputId": "af717ebc-286c-4aae-9f71-a6d9d9e1f639",
        "colab": {
          "base_uri": "https://localhost:8080/",
          "height": 302
        }
      },
      "source": [
        "#c \n",
        "\n",
        "concluidos = alunos_imd[alunos_imd[\"status\"] == \"CONCLUÍDO\"]\n",
        "sns.countplot(x = 'ano_ingresso', hue = 'sexo', data = concluidos)\n",
        "\n",
        "#A questão de gênero de mantém: existem menos mulheres formadas do que homens e não há crescimento."
      ],
      "execution_count": 0,
      "outputs": [
        {
          "output_type": "execute_result",
          "data": {
            "text/plain": [
              "<matplotlib.axes._subplots.AxesSubplot at 0x7f8d9d1aa080>"
            ]
          },
          "metadata": {
            "tags": []
          },
          "execution_count": 108
        },
        {
          "output_type": "display_data",
          "data": {
            "image/png": "[encoded data removed]",
            "text/plain": [
              "<Figure size 432x288 with 1 Axes>"
            ]
          },
          "metadata": {
            "tags": []
          }
        }
      ]
    },
    {
      "cell_type": "markdown",
      "metadata": {
        "id": "OhJzAIDCNeJ2",
        "colab_type": "text"
      },
      "source": [
        "3. (**3 pontos**) O arquivo \"alunos_imd.csv\" contem informações sobre os discentes do curso de Bacharelado em Tecnologia da Informação desde 2013. Outra informação bastante importante e presente na base de dados está relacionada com a etnia (coluna **raca**) dos discentes. Diferentes proporções de etnias são encontradas na base de dados. Estudos estatísticos devem levar em consideração tais informações na tentativa de evitar enviesamentos. Utilizando o conteúdo apresentado em sala de aula, descreva através de gráfico(s) a importância no tamanho da amostra de dados para um estudo estatístico. Discorra também sobre os resultados. Utilize como base a proporção de etnias diferentes de \"pardo\" e \"branco\" assim como o tamanho de amostras de 100, 250, 500 e 1500 com 100 simulações para cada tamanho e sementes (*random_state*) aleatórias apropriadas que permitam a reproducibilidade dos resultados.\n",
        "\n"
      ]
    },
    {
      "cell_type": "code",
      "metadata": {
        "id": "UlKnWGJ8Zlq9",
        "colab_type": "code",
        "outputId": "b6fcdfbf-7ea9-418c-8944-53d24c841e5c",
        "colab": {
          "base_uri": "https://localhost:8080/",
          "height": 198
        }
      },
      "source": [
        "alunos_imd = pd.read_csv(\"alunos_imd.csv\").iloc[:,1:]\n",
        "etnias1 = alunos_imd[alunos_imd[\"raca\"] != \"Pardo\"]\n",
        "etnias = etnias1[etnias1[\"raca\"] != \"Branco\"]\n",
        "\n",
        "prop_etnias = alunos_imd[\"raca\"].value_counts(normalize=True)*100)\n",
        "print(prop_etnias)\n",
        "\n",
        "#Cerca de 5% dos alunos da faculdade são negros, \n",
        "#0.3% Amarelos, 0.2% Indigenos e 0.04% Remanescentes de quilombo"
      ],
      "execution_count": 0,
      "outputs": [
        {
          "output_type": "stream",
          "text": [
            "{'Não Informado': 6.46900269541779, 'Negro': 5.480682839173405, 'Amarelo (de origem oriental)': 0.3144654088050315, 'Indígeno': 0.2695417789757413, 'Remanescente de quilombo': 0.04492362982929021}\n",
            "Pardo                           46.451033\n",
            "Branco                          40.970350\n",
            "Não Informado                    6.469003\n",
            "Negro                            5.480683\n",
            "Amarelo (de origem oriental)     0.314465\n",
            "Indígeno                         0.269542\n",
            "Remanescente de quilombo         0.044924\n",
            "Name: raca, dtype: float64\n"
          ],
          "name": "stdout"
        }
      ]
    },
    {
      "cell_type": "code",
      "metadata": {
        "id": "o-DHTTDFsE61",
        "colab_type": "code",
        "colab": {}
      },
      "source": [
        "\n",
        "quant = [100, 250, 500,1500]\n",
        "j = 0\n",
        "points = []\n",
        "\n",
        "for q in quant:\n",
        "  for i in range (1,100):\n",
        "    sample = alunos_imd.sample(q, random_state = i).mean()\n",
        "    points.append(sample)\n",
        "    j+= 1\n",
        "\n",
        "  plt.scatter(range(0, 100), points)\n",
        "  plt.show()\n",
        "  \n",
        "##acabou o tempo bem quando eu comecei aqui"
      ],
      "execution_count": 0,
      "outputs": []
    }
  ]
}