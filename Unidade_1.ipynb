{
  "nbformat": 4,
  "nbformat_minor": 0,
  "metadata": {
    "colab": {
      "name": "Unidade 1.ipynb",
      "version": "0.3.2",
      "provenance": [],
      "toc_visible": true
    },
    "kernelspec": {
      "name": "python3",
      "display_name": "Python 3"
    }
  },
  "cells": [
    {
      "cell_type": "markdown",
      "metadata": {
        "id": "9J2b5-PX-Kak",
        "colab_type": "text"
      },
      "source": [
        "# Unidade 01\n",
        "\n",
        "- **Aluno**: Carmem Stefanie da Silva Cavalcante\n",
        "\n",
        "\n",
        "\n",
        "**Avisos**\n",
        "\n",
        "\n",
        "1. Todas as questões devem ser respondidas através de códigos escritos em linguagem Python 3 (**verificar o tipo do runtime**) e no espaço destinado para esse fim. Criem células Markdown para destacar quando inicia e termina as questões. \n",
        "2. O arquivo da base de dados não deve ser alterado. "
      ]
    },
    {
      "cell_type": "markdown",
      "metadata": {
        "id": "DYjvP9i1G54W",
        "colab_type": "text"
      },
      "source": [
        "## Base de Dados\n",
        "\n"
      ]
    },
    {
      "cell_type": "markdown",
      "metadata": {
        "id": "fLO6wb7NHGEB",
        "colab_type": "text"
      },
      "source": [
        "A base de dados contem informações sobre a estimativa da população dos municípios brasileiros. Os dados foram extraídos do [site do IBGE](https://downloads.ibge.gov.br/downloads_estatisticas.htm#). A base contem as seguintes colunas:\n",
        "\n",
        "- **UF**: abreviatura do estado.\n",
        "- **COD. UF**: código do estado de acordo com nomenclatura própria do IBGE\n",
        "- **COD. MUNIC**: código do município de acordo com nomenclatura própria do IBGE\n",
        "- **NOME DO MUNICÍPIO**: nome do município\n",
        "- **POPULAÇÃO ESTIMADA**: população estimada para um determinado município"
      ]
    },
    {
      "cell_type": "markdown",
      "metadata": {
        "id": "b39ffbA-tKOO",
        "colab_type": "text"
      },
      "source": [
        "## Questão 01 (2.0 pontos)"
      ]
    },
    {
      "cell_type": "markdown",
      "metadata": {
        "id": "EqjYYo7rtQsG",
        "colab_type": "text"
      },
      "source": [
        "1. (0.5 ponto) Qual a quantidade total de dados faltantes na base de dados?\n",
        "2. (0.5 ponto) Quantos estados estão presentes na base de dados? Dados faltantes não são considerados valores válidos?\n",
        "3. (0.5 ponto) Quantos municípios estão presentes na base de dados? Dados faltantes não são considerados valores válidos?\n",
        "4. (0.25 ponto) Qual o tamanho da base de dados (em KB)?\n",
        "5. (0.25 ponto) Elimine as linhas da base que contenham dados faltantes. \n"
      ]
    },
    {
      "cell_type": "code",
      "metadata": {
        "id": "qF9QeqSetvc9",
        "colab_type": "code",
        "colab": {}
      },
      "source": [
        "import pandas as pd\n",
        "ibge_data = pd.read_csv(\"populacao.csv\")\n",
        "ibge_data.head()"
      ],
      "execution_count": 0,
      "outputs": []
    },
    {
      "cell_type": "code",
      "metadata": {
        "id": "WqlH64d8C0Wy",
        "colab_type": "code",
        "outputId": "fe62c996-53d1-4f75-e9cf-d859b8b34a3e",
        "colab": {
          "base_uri": "https://localhost:8080/",
          "height": 125
        }
      },
      "source": [
        "#1\n",
        "ibge_data.isnull().sum()"
      ],
      "execution_count": 0,
      "outputs": [
        {
          "output_type": "execute_result",
          "data": {
            "text/plain": [
              "UF                    2\n",
              "COD. UF               2\n",
              "COD. MUNIC            2\n",
              "NOME DO MUNICÍPIO     2\n",
              "POPULAÇÃO ESTIMADA    2\n",
              "dtype: int64"
            ]
          },
          "metadata": {
            "tags": []
          },
          "execution_count": 94
        }
      ]
    },
    {
      "cell_type": "code",
      "metadata": {
        "id": "dYGO24YTC6tn",
        "colab_type": "code",
        "outputId": "2e0f5928-c7c6-40ac-daea-a5486d4113d4",
        "colab": {
          "base_uri": "https://localhost:8080/",
          "height": 35
        }
      },
      "source": [
        "#2\n",
        "ibge_notnull = ibge_data.loc[ibge_data[\"UF\"].notnull()]\n",
        "len(ibge_notnull[\"UF\"].unique())\n"
      ],
      "execution_count": 0,
      "outputs": [
        {
          "output_type": "execute_result",
          "data": {
            "text/plain": [
              "27"
            ]
          },
          "metadata": {
            "tags": []
          },
          "execution_count": 99
        }
      ]
    },
    {
      "cell_type": "code",
      "metadata": {
        "id": "liDGzwkJFLi4",
        "colab_type": "code",
        "outputId": "38d901db-3430-4f54-bb62-8fc8e00a68eb",
        "colab": {
          "base_uri": "https://localhost:8080/",
          "height": 35
        }
      },
      "source": [
        "#3\n",
        "ibge_notnull = ibge_data.loc[ibge_data[\"COD. MUNIC\"].notnull()]\n",
        "state_and_city = ibge_notnull.loc[:,[\"UF\",\"NOME DO MUNICÍPIO\"]]\n",
        "len(state_and_city)"
      ],
      "execution_count": 0,
      "outputs": [
        {
          "output_type": "execute_result",
          "data": {
            "text/plain": [
              "5570"
            ]
          },
          "metadata": {
            "tags": []
          },
          "execution_count": 92
        }
      ]
    },
    {
      "cell_type": "code",
      "metadata": {
        "id": "DZjMs1-lFijQ",
        "colab_type": "code",
        "outputId": "5a0f2972-a32f-4ff8-e0d2-dab44075837b",
        "colab": {
          "base_uri": "https://localhost:8080/",
          "height": 196
        }
      },
      "source": [
        "#4\n",
        "ibge_data.info()\n",
        "\n",
        "#A base de dados tem 217.7+ KB"
      ],
      "execution_count": 0,
      "outputs": [
        {
          "output_type": "stream",
          "text": [
            "<class 'pandas.core.frame.DataFrame'>\n",
            "RangeIndex: 5572 entries, 0 to 5571\n",
            "Data columns (total 5 columns):\n",
            "UF                    5570 non-null object\n",
            "COD. UF               5570 non-null float64\n",
            "COD. MUNIC            5570 non-null float64\n",
            "NOME DO MUNICÍPIO     5570 non-null object\n",
            "POPULAÇÃO ESTIMADA    5570 non-null float64\n",
            "dtypes: float64(3), object(2)\n",
            "memory usage: 217.7+ KB\n"
          ],
          "name": "stdout"
        }
      ]
    },
    {
      "cell_type": "code",
      "metadata": {
        "id": "NoWq7EE0FrBV",
        "colab_type": "code",
        "outputId": "dc160839-d6d9-40d6-ae6c-f1a3538cc6f8",
        "colab": {
          "base_uri": "https://localhost:8080/",
          "height": 196
        }
      },
      "source": [
        "#5\n",
        "new_ibge = ibge_data.dropna(axis=0)\n",
        "\n",
        "#É possível ver que antes existiam 5572 linhas, e agora existem apenas 5570 \n",
        "#pois as duas linhas com valores nulos foram apagadas\n",
        "new_ibge.info()"
      ],
      "execution_count": 0,
      "outputs": [
        {
          "output_type": "stream",
          "text": [
            "<class 'pandas.core.frame.DataFrame'>\n",
            "Int64Index: 5570 entries, 0 to 5569\n",
            "Data columns (total 5 columns):\n",
            "UF                    5570 non-null object\n",
            "COD. UF               5570 non-null float64\n",
            "COD. MUNIC            5570 non-null float64\n",
            "NOME DO MUNICÍPIO     5570 non-null object\n",
            "POPULAÇÃO ESTIMADA    5570 non-null float64\n",
            "dtypes: float64(3), object(2)\n",
            "memory usage: 261.1+ KB\n"
          ],
          "name": "stdout"
        }
      ]
    },
    {
      "cell_type": "markdown",
      "metadata": {
        "id": "gBDr3Y9DuF1S",
        "colab_type": "text"
      },
      "source": [
        "## Questão 2 (2,5 pontos)"
      ]
    },
    {
      "cell_type": "markdown",
      "metadata": {
        "id": "hFjecOm9zD_5",
        "colab_type": "text"
      },
      "source": [
        "1. (0.5 ponto) Qual a população estimada do país? É supeior a 200 milhões de habitantes?\n",
        "2. (1.0 ponto) Quais os 05 estados brasileiros com o maior número de municípios?\n",
        "2. (1.0 ponto) Quantos e quais estados possuem uma população média superior a 60 mil habitantes e inferior a 100 mil habitantes?"
      ]
    },
    {
      "cell_type": "code",
      "metadata": {
        "id": "kZsjvt8TCbWI",
        "colab_type": "code",
        "outputId": "4f68a910-41b5-4499-c466-2150013a6e5b",
        "colab": {
          "base_uri": "https://localhost:8080/",
          "height": 53
        }
      },
      "source": [
        "#1\n",
        "total_pop = new_ibge[\"POPULAÇÃO ESTIMADA\"].sum()\n",
        "\n",
        "if(total_pop > 200000000):\n",
        "  print(\"Maior que 200 milhões\")\n",
        "  print(total_pop)\n",
        "else:\n",
        "  print(\"Menor que 200 milhões\")"
      ],
      "execution_count": 0,
      "outputs": [
        {
          "output_type": "stream",
          "text": [
            "Maior que 200 milhões\n",
            "207660929.0\n"
          ],
          "name": "stdout"
        }
      ]
    },
    {
      "cell_type": "code",
      "metadata": {
        "id": "c2dhWW_IJDV3",
        "colab_type": "code",
        "outputId": "abf77c47-d27a-4682-dac3-00f04ffe1a58",
        "colab": {
          "base_uri": "https://localhost:8080/",
          "height": 238
        }
      },
      "source": [
        "#2\n",
        "cities_state = new_ibge.pivot_table(index=\"UF\", values = \"NOME DO MUNICÍPIO\", aggfunc=\"count\")\n",
        "cities_state.sort_values(by=\"NOME DO MUNICÍPIO\", ascending = False).head()"
      ],
      "execution_count": 0,
      "outputs": [
        {
          "output_type": "execute_result",
          "data": {
            "text/html": [
              "<div>\n",
              "<style scoped>\n",
              "    .dataframe tbody tr th:only-of-type {\n",
              "        vertical-align: middle;\n",
              "    }\n",
              "\n",
              "    .dataframe tbody tr th {\n",
              "        vertical-align: top;\n",
              "    }\n",
              "\n",
              "    .dataframe thead th {\n",
              "        text-align: right;\n",
              "    }\n",
              "</style>\n",
              "<table border=\"1\" class=\"dataframe\">\n",
              "  <thead>\n",
              "    <tr style=\"text-align: right;\">\n",
              "      <th></th>\n",
              "      <th>NOME DO MUNICÍPIO</th>\n",
              "    </tr>\n",
              "    <tr>\n",
              "      <th>UF</th>\n",
              "      <th></th>\n",
              "    </tr>\n",
              "  </thead>\n",
              "  <tbody>\n",
              "    <tr>\n",
              "      <th>MG</th>\n",
              "      <td>853</td>\n",
              "    </tr>\n",
              "    <tr>\n",
              "      <th>SP</th>\n",
              "      <td>645</td>\n",
              "    </tr>\n",
              "    <tr>\n",
              "      <th>RS</th>\n",
              "      <td>497</td>\n",
              "    </tr>\n",
              "    <tr>\n",
              "      <th>BA</th>\n",
              "      <td>417</td>\n",
              "    </tr>\n",
              "    <tr>\n",
              "      <th>PR</th>\n",
              "      <td>399</td>\n",
              "    </tr>\n",
              "  </tbody>\n",
              "</table>\n",
              "</div>"
            ],
            "text/plain": [
              "    NOME DO MUNICÍPIO\n",
              "UF                   \n",
              "MG                853\n",
              "SP                645\n",
              "RS                497\n",
              "BA                417\n",
              "PR                399"
            ]
          },
          "metadata": {
            "tags": []
          },
          "execution_count": 80
        }
      ]
    },
    {
      "cell_type": "code",
      "metadata": {
        "id": "Q-2nGXK4LtPk",
        "colab_type": "code",
        "outputId": "58436e00-8aa0-4935-a62c-180f15335ba1",
        "colab": {
          "base_uri": "https://localhost:8080/",
          "height": 144
        }
      },
      "source": [
        "#3\n",
        "meanpop_state = new_ibge.pivot_table(index=\"UF\", values = \"POPULAÇÃO ESTIMADA\", aggfunc=\"mean\")\n",
        "between_60_and_100 = meanpop_state.loc[(meanpop_state[\"POPULAÇÃO ESTIMADA\"] > 60000) & (meanpop_state[\"POPULAÇÃO ESTIMADA\"] < 100000)]\n",
        "between_60_and_100"
      ],
      "execution_count": 0,
      "outputs": [
        {
          "output_type": "execute_result",
          "data": {
            "text/html": [
              "<div>\n",
              "<style scoped>\n",
              "    .dataframe tbody tr th:only-of-type {\n",
              "        vertical-align: middle;\n",
              "    }\n",
              "\n",
              "    .dataframe tbody tr th {\n",
              "        vertical-align: top;\n",
              "    }\n",
              "\n",
              "    .dataframe thead th {\n",
              "        text-align: right;\n",
              "    }\n",
              "</style>\n",
              "<table border=\"1\" class=\"dataframe\">\n",
              "  <thead>\n",
              "    <tr style=\"text-align: right;\">\n",
              "      <th></th>\n",
              "      <th>POPULAÇÃO ESTIMADA</th>\n",
              "    </tr>\n",
              "    <tr>\n",
              "      <th>UF</th>\n",
              "      <th></th>\n",
              "    </tr>\n",
              "  </thead>\n",
              "  <tbody>\n",
              "    <tr>\n",
              "      <th>AM</th>\n",
              "      <td>65542.16129</td>\n",
              "    </tr>\n",
              "    <tr>\n",
              "      <th>SP</th>\n",
              "      <td>69914.52093</td>\n",
              "    </tr>\n",
              "  </tbody>\n",
              "</table>\n",
              "</div>"
            ],
            "text/plain": [
              "    POPULAÇÃO ESTIMADA\n",
              "UF                    \n",
              "AM         65542.16129\n",
              "SP         69914.52093"
            ]
          },
          "metadata": {
            "tags": []
          },
          "execution_count": 83
        }
      ]
    },
    {
      "cell_type": "markdown",
      "metadata": {
        "id": "HNeQJi-97bzn",
        "colab_type": "text"
      },
      "source": [
        "## Questão 3 (2.5 pontos)\n"
      ]
    },
    {
      "cell_type": "markdown",
      "metadata": {
        "id": "zpTJPTo0-JwJ",
        "colab_type": "text"
      },
      "source": [
        "\n",
        "1. (2.5 pontos) Qual a porcentagem dos municípios do Nordeste de acordo com a tabela abaixo? Dica: verificar a função [pandas.series.isin()](https://pandas.pydata.org/pandas-docs/stable/reference/api/pandas.Series.isin.html)\n",
        "\n",
        "| População do Município | Classificação |\n",
        "|-----------------------------|-----------------|\n",
        "| 0 < pop. <= 5.000 | muito pequeno |\n",
        "| 5.000 < pop. <= 10.000 | pequeno |\n",
        "| 10.000 < pop. <= 30.000 | médio |\n",
        "| 30.000 < pop. <= 50.000 | grande |\n",
        "| 50.000 < pop. <= 100.000 | muito grande |\n",
        "| 100.000 < pop. <= 500.000 | enorme |\n",
        "| 500.000 < pop. <= 2.000.000 | grandes centros |\n",
        "| pop. > 2.000.000 | metrópole |"
      ]
    },
    {
      "cell_type": "code",
      "metadata": {
        "id": "e-JHG-kYOanB",
        "colab_type": "code",
        "outputId": "0f91beb3-1ff5-4ee0-e476-634b6a4016ad",
        "colab": {
          "base_uri": "https://localhost:8080/",
          "height": 252
        }
      },
      "source": [
        "\n",
        "states = new_ibge[\"UF\"]\n",
        "nordeste = states.isin(['AL', 'BA', 'CE', 'MA', 'PE', 'PI', 'PB', 'RN', 'SE'])\n",
        "\n",
        "ibge_nordeste = new_ibge[nordeste]\n",
        "\n",
        "ibge_nordeste[\"class\"] = pd.cut(ibge_nordeste[\"POPULAÇÃO ESTIMADA\"],\n",
        "                  bins=[0,5000,10000,30000,50000,100000,500000,2000000,1000000000],\n",
        "                  labels=[\"Muito pequeno\",\"Pequeno\",\"Médio\",\n",
        "                  \"Grande\",\"Muito Grande\",\"Enorme\",\"Grandes centros\",\"Metrópole\"])\n",
        "\n",
        "ibge_pivot = ibge_nordeste.pivot_table(index=\"class\",\n",
        "                             values=\"POPULAÇÃO ESTIMADA\",\n",
        "                             aggfunc=\"count\")\n",
        "\n",
        "\n",
        "\n"
      ],
      "execution_count": 0,
      "outputs": [
        {
          "output_type": "stream",
          "text": [
            "/usr/local/lib/python3.6/dist-packages/ipykernel_launcher.py:10: SettingWithCopyWarning: \n",
            "A value is trying to be set on a copy of a slice from a DataFrame.\n",
            "Try using .loc[row_indexer,col_indexer] = value instead\n",
            "\n",
            "See the caveats in the documentation: http://pandas.pydata.org/pandas-docs/stable/indexing.html#indexing-view-versus-copy\n",
            "  # Remove the CWD from sys.path while we load stuff.\n",
            "/usr/local/lib/python3.6/dist-packages/pandas/core/indexes/category.py:148: RuntimeWarning: Values and categories have different dtypes. Did you mean to use\n",
            "'Categorical.from_codes(codes, categories)'?\n",
            "  dtype=dtype)\n",
            "/usr/local/lib/python3.6/dist-packages/pandas/core/indexes/category.py:148: RuntimeWarning: None of the categories were found in values. Did you mean to use\n",
            "'Categorical.from_codes(codes, categories)'?\n",
            "  dtype=dtype)\n"
          ],
          "name": "stderr"
        }
      ]
    }
  ]
}